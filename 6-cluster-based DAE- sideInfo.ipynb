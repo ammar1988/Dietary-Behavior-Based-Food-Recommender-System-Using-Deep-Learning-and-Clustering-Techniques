{
 "cells": [
  {
   "cell_type": "code",
   "execution_count": 1,
   "id": "a1825dda",
   "metadata": {},
   "outputs": [],
   "source": [
    "import pandas as pd\n",
    "import numpy as np\n",
    "import tensorflow as tf\n",
    "from keras.optimizers import Adam\n",
    "from keras.layers import Input, Dense, Dropout, concatenate, Embedding\n",
    "from keras.models import Model\n",
    "from keras import regularizers\n",
    "from keras import backend as K \n",
    "from keras.callbacks import EarlyStopping\n",
    "import warnings\n",
    "warnings.filterwarnings('ignore')\n",
    "from sklearn.model_selection import train_test_split\n",
    "from sklearn import preprocessing\n",
    "\n",
    "import matplotlib.pyplot as plt\n",
    "%matplotlib inline "
   ]
  },
  {
   "cell_type": "code",
   "execution_count": 2,
   "id": "2458eab8",
   "metadata": {},
   "outputs": [],
   "source": [
    "# Use random seed\n",
    "tf.random.set_seed(100)"
   ]
  },
  {
   "cell_type": "code",
   "execution_count": 3,
   "id": "54ea9677",
   "metadata": {},
   "outputs": [],
   "source": [
    "\"\"\" import dataset \"\"\"\n",
    "\n",
    "df1 = pd.read_csv('ratings_5cluster.csv',usecols=['user_id','food_id', 'rating', 'cluster'])"
   ]
  },
  {
   "cell_type": "code",
   "execution_count": 4,
   "id": "5450b304",
   "metadata": {},
   "outputs": [],
   "source": [
    "\"\"\" number of clusters \"\"\"\n",
    "num_cluster = df1['cluster'].unique().max() + 1"
   ]
  },
  {
   "cell_type": "code",
   "execution_count": 5,
   "id": "b1b8f240",
   "metadata": {},
   "outputs": [],
   "source": [
    "items = pd.read_csv('food_nutrition_IQR15.csv',\n",
    "                    usecols=['id', 'calories', 'total_fat', 'sugar', 'sodium', 'protein', 'saturated_fat',\n",
    "                             'carbohydrates'] ,engine='python').rename(columns={\"id\": \"food_id\"})"
   ]
  },
  {
   "cell_type": "code",
   "execution_count": 6,
   "id": "90ff68e9",
   "metadata": {},
   "outputs": [
    {
     "data": {
      "text/html": [
       "<div>\n",
       "<style scoped>\n",
       "    .dataframe tbody tr th:only-of-type {\n",
       "        vertical-align: middle;\n",
       "    }\n",
       "\n",
       "    .dataframe tbody tr th {\n",
       "        vertical-align: top;\n",
       "    }\n",
       "\n",
       "    .dataframe thead th {\n",
       "        text-align: right;\n",
       "    }\n",
       "</style>\n",
       "<table border=\"1\" class=\"dataframe\">\n",
       "  <thead>\n",
       "    <tr style=\"text-align: right;\">\n",
       "      <th></th>\n",
       "      <th>user_id</th>\n",
       "      <th>food_id</th>\n",
       "      <th>rating</th>\n",
       "      <th>cluster</th>\n",
       "      <th>calories</th>\n",
       "      <th>total_fat</th>\n",
       "      <th>sugar</th>\n",
       "      <th>sodium</th>\n",
       "      <th>protein</th>\n",
       "      <th>saturated_fat</th>\n",
       "      <th>carbohydrates</th>\n",
       "    </tr>\n",
       "  </thead>\n",
       "  <tbody>\n",
       "    <tr>\n",
       "      <th>0</th>\n",
       "      <td>56680</td>\n",
       "      <td>79222</td>\n",
       "      <td>5</td>\n",
       "      <td>0</td>\n",
       "      <td>274.2</td>\n",
       "      <td>12</td>\n",
       "      <td>15</td>\n",
       "      <td>18</td>\n",
       "      <td>32</td>\n",
       "      <td>22</td>\n",
       "      <td>12</td>\n",
       "    </tr>\n",
       "    <tr>\n",
       "      <th>1</th>\n",
       "      <td>101823</td>\n",
       "      <td>79222</td>\n",
       "      <td>5</td>\n",
       "      <td>0</td>\n",
       "      <td>274.2</td>\n",
       "      <td>12</td>\n",
       "      <td>15</td>\n",
       "      <td>18</td>\n",
       "      <td>32</td>\n",
       "      <td>22</td>\n",
       "      <td>12</td>\n",
       "    </tr>\n",
       "    <tr>\n",
       "      <th>2</th>\n",
       "      <td>446143</td>\n",
       "      <td>79222</td>\n",
       "      <td>4</td>\n",
       "      <td>0</td>\n",
       "      <td>274.2</td>\n",
       "      <td>12</td>\n",
       "      <td>15</td>\n",
       "      <td>18</td>\n",
       "      <td>32</td>\n",
       "      <td>22</td>\n",
       "      <td>12</td>\n",
       "    </tr>\n",
       "    <tr>\n",
       "      <th>3</th>\n",
       "      <td>226989</td>\n",
       "      <td>79222</td>\n",
       "      <td>4</td>\n",
       "      <td>1</td>\n",
       "      <td>274.2</td>\n",
       "      <td>12</td>\n",
       "      <td>15</td>\n",
       "      <td>18</td>\n",
       "      <td>32</td>\n",
       "      <td>22</td>\n",
       "      <td>12</td>\n",
       "    </tr>\n",
       "    <tr>\n",
       "      <th>4</th>\n",
       "      <td>868654</td>\n",
       "      <td>79222</td>\n",
       "      <td>5</td>\n",
       "      <td>1</td>\n",
       "      <td>274.2</td>\n",
       "      <td>12</td>\n",
       "      <td>15</td>\n",
       "      <td>18</td>\n",
       "      <td>32</td>\n",
       "      <td>22</td>\n",
       "      <td>12</td>\n",
       "    </tr>\n",
       "    <tr>\n",
       "      <th>...</th>\n",
       "      <td>...</td>\n",
       "      <td>...</td>\n",
       "      <td>...</td>\n",
       "      <td>...</td>\n",
       "      <td>...</td>\n",
       "      <td>...</td>\n",
       "      <td>...</td>\n",
       "      <td>...</td>\n",
       "      <td>...</td>\n",
       "      <td>...</td>\n",
       "      <td>...</td>\n",
       "    </tr>\n",
       "    <tr>\n",
       "      <th>113862</th>\n",
       "      <td>322548</td>\n",
       "      <td>146183</td>\n",
       "      <td>5</td>\n",
       "      <td>0</td>\n",
       "      <td>96.5</td>\n",
       "      <td>0</td>\n",
       "      <td>25</td>\n",
       "      <td>0</td>\n",
       "      <td>2</td>\n",
       "      <td>0</td>\n",
       "      <td>7</td>\n",
       "    </tr>\n",
       "    <tr>\n",
       "      <th>113863</th>\n",
       "      <td>841067</td>\n",
       "      <td>146183</td>\n",
       "      <td>1</td>\n",
       "      <td>4</td>\n",
       "      <td>96.5</td>\n",
       "      <td>0</td>\n",
       "      <td>25</td>\n",
       "      <td>0</td>\n",
       "      <td>2</td>\n",
       "      <td>0</td>\n",
       "      <td>7</td>\n",
       "    </tr>\n",
       "    <tr>\n",
       "      <th>113864</th>\n",
       "      <td>384210</td>\n",
       "      <td>146183</td>\n",
       "      <td>5</td>\n",
       "      <td>0</td>\n",
       "      <td>96.5</td>\n",
       "      <td>0</td>\n",
       "      <td>25</td>\n",
       "      <td>0</td>\n",
       "      <td>2</td>\n",
       "      <td>0</td>\n",
       "      <td>7</td>\n",
       "    </tr>\n",
       "    <tr>\n",
       "      <th>113865</th>\n",
       "      <td>260689</td>\n",
       "      <td>181229</td>\n",
       "      <td>5</td>\n",
       "      <td>0</td>\n",
       "      <td>257.6</td>\n",
       "      <td>29</td>\n",
       "      <td>30</td>\n",
       "      <td>36</td>\n",
       "      <td>13</td>\n",
       "      <td>45</td>\n",
       "      <td>5</td>\n",
       "    </tr>\n",
       "    <tr>\n",
       "      <th>113866</th>\n",
       "      <td>178504</td>\n",
       "      <td>181229</td>\n",
       "      <td>5</td>\n",
       "      <td>0</td>\n",
       "      <td>257.6</td>\n",
       "      <td>29</td>\n",
       "      <td>30</td>\n",
       "      <td>36</td>\n",
       "      <td>13</td>\n",
       "      <td>45</td>\n",
       "      <td>5</td>\n",
       "    </tr>\n",
       "  </tbody>\n",
       "</table>\n",
       "<p>113867 rows × 11 columns</p>\n",
       "</div>"
      ],
      "text/plain": [
       "        user_id  food_id  rating  cluster  calories  total_fat  sugar  sodium  \\\n",
       "0         56680    79222       5        0     274.2         12     15      18   \n",
       "1        101823    79222       5        0     274.2         12     15      18   \n",
       "2        446143    79222       4        0     274.2         12     15      18   \n",
       "3        226989    79222       4        1     274.2         12     15      18   \n",
       "4        868654    79222       5        1     274.2         12     15      18   \n",
       "...         ...      ...     ...      ...       ...        ...    ...     ...   \n",
       "113862   322548   146183       5        0      96.5          0     25       0   \n",
       "113863   841067   146183       1        4      96.5          0     25       0   \n",
       "113864   384210   146183       5        0      96.5          0     25       0   \n",
       "113865   260689   181229       5        0     257.6         29     30      36   \n",
       "113866   178504   181229       5        0     257.6         29     30      36   \n",
       "\n",
       "        protein  saturated_fat  carbohydrates  \n",
       "0            32             22             12  \n",
       "1            32             22             12  \n",
       "2            32             22             12  \n",
       "3            32             22             12  \n",
       "4            32             22             12  \n",
       "...         ...            ...            ...  \n",
       "113862        2              0              7  \n",
       "113863        2              0              7  \n",
       "113864        2              0              7  \n",
       "113865       13             45              5  \n",
       "113866       13             45              5  \n",
       "\n",
       "[113867 rows x 11 columns]"
      ]
     },
     "execution_count": 6,
     "metadata": {},
     "output_type": "execute_result"
    }
   ],
   "source": [
    "'''merge rates with recipes nutrition dataset'''\n",
    "df2 = pd.merge(df1,items)\n",
    "df2"
   ]
  },
  {
   "cell_type": "code",
   "execution_count": 7,
   "id": "ac5db14c",
   "metadata": {},
   "outputs": [],
   "source": [
    "\"\"\" Functions \"\"\"\n",
    "\n",
    "def dataPreprocessor(rating_df, num_users, num_items, init_value=0):\n",
    "    \"\"\"\n",
    "        INPUT: \n",
    "            data: pandas DataFrame. columns=['userID', 'itemID', 'rating' ...]\n",
    "            num_row: int. number of items\n",
    "            num_col: int. number of users\n",
    "            \n",
    "        OUTPUT:\n",
    "            matrix: 2D numpy array. \n",
    "    \"\"\"\n",
    "    matrix = np.full((num_items, num_users), init_value)   #full empty matrix with 0's\n",
    "    for (_, rating, userID, itemID) in rating_df.itertuples():\n",
    "      matrix[itemID, userID] = rating                 #full empty matrix with rates\n",
    "\n",
    "    return matrix"
   ]
  },
  {
   "cell_type": "code",
   "execution_count": 8,
   "id": "2417d1a9",
   "metadata": {},
   "outputs": [],
   "source": [
    "def show_error(history, skip):\n",
    "    loss = history.history['loss']\n",
    "    val_loss = history.history['val_loss']\n",
    "    plt.plot(np.arange(skip, len(loss), 1), loss[skip:])\n",
    "    plt.plot(np.arange(skip, len(loss), 1), val_loss[skip:])\n",
    "    plt.title('Cluster {}'.format(k))\n",
    "    plt.ylabel('loss')\n",
    "    plt.xlabel('epoch')\n",
    "    plt.legend(['train', 'validation'], loc='best')\n",
    "    plt.show()"
   ]
  },
  {
   "cell_type": "code",
   "execution_count": 9,
   "id": "6af66b61",
   "metadata": {},
   "outputs": [],
   "source": [
    "def masked_mse(y_true, y_pred):\n",
    "        # masked function\n",
    "        mask_true = K.cast(K.not_equal(y_true, 0), K.floatx())\n",
    "        # masked squared error\n",
    "        masked_squared_error = K.square(mask_true * (y_true - y_pred))\n",
    "        masked_mse = K.sum(masked_squared_error, axis=-1) / K.maximum(K.sum(mask_true, axis=-1), 1)\n",
    "        return masked_mse"
   ]
  },
  {
   "cell_type": "code",
   "execution_count": 10,
   "id": "831acbf4",
   "metadata": {},
   "outputs": [],
   "source": [
    "def masked_rmse(y_true, y_pred):\n",
    "        # masked function (using only y_true values that not equal to zero)\n",
    "        mask_true = K.cast(K.not_equal(y_true, 0), K.floatx())\n",
    "        # masked squared error\n",
    "        masked_squared_error = K.square(mask_true * (y_true - y_pred))\n",
    "        masked_mse = K.sqrt(K.sum(masked_squared_error, axis=-1) / K.maximum(K.sum(mask_true, axis=-1), 1))\n",
    "        return masked_mse"
   ]
  },
  {
   "cell_type": "code",
   "execution_count": 11,
   "id": "4b646db7",
   "metadata": {},
   "outputs": [],
   "source": [
    "def masked_rmse_clip(y_true, y_pred):\n",
    "        # masked function\n",
    "        mask_true = K.cast(K.not_equal(y_true, 0), K.floatx())\n",
    "        y_pred = K.clip(y_pred, 1, 5)\n",
    "        # masked squared error\n",
    "        masked_squared_error = K.square(mask_true * (y_true - y_pred))\n",
    "        masked_mse = K.sqrt(K.sum(masked_squared_error, axis=-1) / K.maximum(K.sum(mask_true, axis=-1), 1))\n",
    "        return masked_mse"
   ]
  },
  {
   "cell_type": "code",
   "execution_count": 12,
   "id": "b7d3b822",
   "metadata": {},
   "outputs": [],
   "source": [
    "# Creating a custom function for MAE \n",
    "def masked_mae_clip(y_true, y_pred):\n",
    "    mask_true = K.cast(K.not_equal(y_true, 0), K.floatx())\n",
    "    y_pred = K.clip(y_pred, 1, 5)\n",
    "    masked_abs_error = K.abs(mask_true * (y_true - y_pred))\n",
    "    masked_mae = K.sum(masked_abs_error, axis=-1) / K.maximum(K.sum(mask_true, axis=-1), 1)\n",
    "    return masked_mae"
   ]
  },
  {
   "cell_type": "code",
   "execution_count": 17,
   "id": "7c73dc1c",
   "metadata": {},
   "outputs": [
    {
     "name": "stdout",
     "output_type": "stream",
     "text": [
      "Model: \"model_5\"\n",
      "__________________________________________________________________________________________________\n",
      " Layer (type)                   Output Shape         Param #     Connected to                     \n",
      "==================================================================================================\n",
      " UserRating (InputLayer)        [(None, 1105)]       0           []                               \n",
      "                                                                                                  \n",
      " dropout_5 (Dropout)            (None, 1105)         0           ['UserRating[0][0]']             \n",
      "                                                                                                  \n",
      " ItemInfo (InputLayer)          [(None, 7)]          0           []                               \n",
      "                                                                                                  \n",
      " Concatenate (Concatenate)      (None, 1112)         0           ['dropout_5[0][0]',              \n",
      "                                                                  'ItemInfo[0][0]']               \n",
      "                                                                                                  \n",
      " LatentSpace (Dense)            (None, 128)          142464      ['Concatenate[0][0]']            \n",
      "                                                                                                  \n",
      " UserScorePred (Dense)          (None, 1105)         142545      ['LatentSpace[0][0]']            \n",
      "                                                                                                  \n",
      "==================================================================================================\n",
      "Total params: 285,009\n",
      "Trainable params: 285,009\n",
      "Non-trainable params: 0\n",
      "__________________________________________________________________________________________________\n",
      "137/137 [==============================] - 0s 2ms/step - loss: 0.2127 - masked_mae_clip: 0.2357 - masked_rmse_clip: 0.2678\n"
     ]
    },
    {
     "data": {
      "image/png": "[encoded data removed]",
      "text/plain": [
       "<Figure size 432x288 with 1 Axes>"
      ]
     },
     "metadata": {
      "needs_background": "light"
     },
     "output_type": "display_data"
    },
    {
     "name": "stdout",
     "output_type": "stream",
     "text": [
      "Model: \"model_6\"\n",
      "__________________________________________________________________________________________________\n",
      " Layer (type)                   Output Shape         Param #     Connected to                     \n",
      "==================================================================================================\n",
      " UserRating (InputLayer)        [(None, 1378)]       0           []                               \n",
      "                                                                                                  \n",
      " dropout_6 (Dropout)            (None, 1378)         0           ['UserRating[0][0]']             \n",
      "                                                                                                  \n",
      " ItemInfo (InputLayer)          [(None, 7)]          0           []                               \n",
      "                                                                                                  \n",
      " Concatenate (Concatenate)      (None, 1385)         0           ['dropout_6[0][0]',              \n",
      "                                                                  'ItemInfo[0][0]']               \n",
      "                                                                                                  \n",
      " LatentSpace (Dense)            (None, 128)          177408      ['Concatenate[0][0]']            \n",
      "                                                                                                  \n",
      " UserScorePred (Dense)          (None, 1378)         177762      ['LatentSpace[0][0]']            \n",
      "                                                                                                  \n",
      "==================================================================================================\n",
      "Total params: 355,170\n",
      "Trainable params: 355,170\n",
      "Non-trainable params: 0\n",
      "__________________________________________________________________________________________________\n",
      "139/139 [==============================] - 0s 2ms/step - loss: 0.2544 - masked_mae_clip: 0.2823 - masked_rmse_clip: 0.3302\n"
     ]
    },
    {
     "data": {
      "image/png": "[encoded data removed]",
      "text/plain": [
       "<Figure size 432x288 with 1 Axes>"
      ]
     },
     "metadata": {
      "needs_background": "light"
     },
     "output_type": "display_data"
    },
    {
     "name": "stdout",
     "output_type": "stream",
     "text": [
      "Model: \"model_7\"\n",
      "__________________________________________________________________________________________________\n",
      " Layer (type)                   Output Shape         Param #     Connected to                     \n",
      "==================================================================================================\n",
      " UserRating (InputLayer)        [(None, 310)]        0           []                               \n",
      "                                                                                                  \n",
      " dropout_7 (Dropout)            (None, 310)          0           ['UserRating[0][0]']             \n",
      "                                                                                                  \n",
      " ItemInfo (InputLayer)          [(None, 7)]          0           []                               \n",
      "                                                                                                  \n",
      " Concatenate (Concatenate)      (None, 317)          0           ['dropout_7[0][0]',              \n",
      "                                                                  'ItemInfo[0][0]']               \n",
      "                                                                                                  \n",
      " LatentSpace (Dense)            (None, 128)          40704       ['Concatenate[0][0]']            \n",
      "                                                                                                  \n",
      " UserScorePred (Dense)          (None, 310)          39990       ['LatentSpace[0][0]']            \n",
      "                                                                                                  \n",
      "==================================================================================================\n",
      "Total params: 80,694\n",
      "Trainable params: 80,694\n",
      "Non-trainable params: 0\n",
      "__________________________________________________________________________________________________\n",
      "79/79 [==============================] - 0s 2ms/step - loss: 0.1206 - masked_mae_clip: 0.1184 - masked_rmse_clip: 0.1237\n"
     ]
    },
    {
     "data": {
      "image/png": "[encoded data removed]",
      "text/plain": [
       "<Figure size 432x288 with 1 Axes>"
      ]
     },
     "metadata": {
      "needs_background": "light"
     },
     "output_type": "display_data"
    },
    {
     "name": "stdout",
     "output_type": "stream",
     "text": [
      "Model: \"model_8\"\n",
      "__________________________________________________________________________________________________\n",
      " Layer (type)                   Output Shape         Param #     Connected to                     \n",
      "==================================================================================================\n",
      " UserRating (InputLayer)        [(None, 184)]        0           []                               \n",
      "                                                                                                  \n",
      " dropout_8 (Dropout)            (None, 184)          0           ['UserRating[0][0]']             \n",
      "                                                                                                  \n",
      " ItemInfo (InputLayer)          [(None, 7)]          0           []                               \n",
      "                                                                                                  \n",
      " Concatenate (Concatenate)      (None, 191)          0           ['dropout_8[0][0]',              \n",
      "                                                                  'ItemInfo[0][0]']               \n",
      "                                                                                                  \n",
      " LatentSpace (Dense)            (None, 128)          24576       ['Concatenate[0][0]']            \n",
      "                                                                                                  \n",
      " UserScorePred (Dense)          (None, 184)          23736       ['LatentSpace[0][0]']            \n",
      "                                                                                                  \n",
      "==================================================================================================\n",
      "Total params: 48,312\n",
      "Trainable params: 48,312\n",
      "Non-trainable params: 0\n",
      "__________________________________________________________________________________________________\n",
      "43/43 [==============================] - 0s 2ms/step - loss: 0.1838 - masked_mae_clip: 0.1338 - masked_rmse_clip: 0.1369\n"
     ]
    },
    {
     "data": {
      "image/png": "[encoded data removed]",
      "text/plain": [
       "<Figure size 432x288 with 1 Axes>"
      ]
     },
     "metadata": {
      "needs_background": "light"
     },
     "output_type": "display_data"
    },
    {
     "name": "stdout",
     "output_type": "stream",
     "text": [
      "Model: \"model_9\"\n",
      "__________________________________________________________________________________________________\n",
      " Layer (type)                   Output Shape         Param #     Connected to                     \n",
      "==================================================================================================\n",
      " UserRating (InputLayer)        [(None, 878)]        0           []                               \n",
      "                                                                                                  \n",
      " dropout_9 (Dropout)            (None, 878)          0           ['UserRating[0][0]']             \n",
      "                                                                                                  \n",
      " ItemInfo (InputLayer)          [(None, 7)]          0           []                               \n",
      "                                                                                                  \n",
      " Concatenate (Concatenate)      (None, 885)          0           ['dropout_9[0][0]',              \n",
      "                                                                  'ItemInfo[0][0]']               \n",
      "                                                                                                  \n",
      " LatentSpace (Dense)            (None, 128)          113408      ['Concatenate[0][0]']            \n",
      "                                                                                                  \n",
      " UserScorePred (Dense)          (None, 878)          113262      ['LatentSpace[0][0]']            \n",
      "                                                                                                  \n",
      "==================================================================================================\n",
      "Total params: 226,670\n",
      "Trainable params: 226,670\n",
      "Non-trainable params: 0\n",
      "__________________________________________________________________________________________________\n",
      "124/124 [==============================] - 0s 2ms/step - loss: 0.1942 - masked_mae_clip: 0.2043 - masked_rmse_clip: 0.2246\n"
     ]
    },
    {
     "data": {
      "image/png": "[encoded data removed]",
      "text/plain": [
       "<Figure size 432x288 with 1 Axes>"
      ]
     },
     "metadata": {
      "needs_background": "light"
     },
     "output_type": "display_data"
    }
   ],
   "source": [
    "\"\"\" execute DAE \"\"\"\n",
    "\n",
    "#loop over clusters\n",
    "\n",
    "RMSE_result = []\n",
    "MAE_result = []\n",
    "\n",
    "\n",
    "for k in range(num_cluster):\n",
    "    #select rates of cluster k\n",
    "    df3 = df2.loc[df2['cluster'] == k]\n",
    "    df3['users_id'] = pd.factorize(df3.user_id)[0]\n",
    "    df3['foods_id'] = pd.factorize(df3.food_id)[0]\n",
    "    \n",
    "    #remove unnessory columns\n",
    "    df = df3.drop(['user_id', 'food_id', 'cluster'], axis=1)\n",
    "\n",
    "    #+1 is the real size, as they are zero based\n",
    "    num_users = df['users_id'].unique().max() + 1\n",
    "    num_foods = df['foods_id'].unique().max() + 1\n",
    "    \n",
    "    #print(\"the number of items =\", num_foods)\n",
    "    \n",
    "    side_info = df.drop(['rating', 'users_id'], axis=1).groupby(['foods_id']).first()\n",
    "    scaler = preprocessing.MinMaxScaler(feature_range=(0, 1))\n",
    "    d = scaler.fit_transform(side_info)\n",
    "    side_info_norm = pd.DataFrame(d, columns=side_info.columns)\n",
    "    side_info_np = side_info_norm.to_numpy()\n",
    "    \n",
    "    new_df = df.drop(['calories', 'total_fat', 'sugar', 'sodium', 'protein', 'saturated_fat',\n",
    "                             'carbohydrates'], axis=1).sort_values(by=['foods_id'])\n",
    "\n",
    "    #divide ds int trin and test sets\n",
    "    train_df, test_df = train_test_split(new_df, test_size=0.2, random_state=100)  \n",
    "    \n",
    "    # Creating a sparse pivot table with items in rows and users in columns\n",
    "    users_items_matrix_train_zero = dataPreprocessor(train_df, num_users, num_foods, 0)\n",
    "    users_items_matrix_test = dataPreprocessor(test_df, num_users, num_foods, 0)\n",
    "    \n",
    "\n",
    "    #convert int array to float\n",
    "    users_items_matrix_train_zero_float = users_items_matrix_train_zero.astype(float)\n",
    "    users_items_matrix_test_float = users_items_matrix_test.astype(float)\n",
    "    \n",
    "    #build the model\n",
    "    item = Input(shape=(side_info_np.shape[1]), name='ItemInfo')\n",
    "    input_layer = x = Input(shape=(users_items_matrix_train_zero.shape[1],), name='UserRating')\n",
    "    x1 = Dropout(rate = 0.5)(x)\n",
    "    con = concatenate([x1, item], name='Concatenate')\n",
    "    h = Dense(128, activation='sigmoid', name='LatentSpace', kernel_regularizer=regularizers.l2(0.1))(con)\n",
    "    output_layer = Dense(users_items_matrix_train_zero.shape[1], activation='linear', name='UserScorePred')(h)\n",
    "    Rec = Model([input_layer, item], output_layer)\n",
    "    \n",
    "    Rec.compile(optimizer = Adam(learning_rate=0.0001), loss=masked_mse, metrics=[masked_mae_clip, masked_rmse_clip])\n",
    "    Rec.summary()\n",
    "\n",
    "    #Run the model\n",
    "    es = EarlyStopping(monitor='val_masked_rmse_clip', mode='min', verbose=0, patience=20)\n",
    "    \n",
    "    \n",
    "    hist_Rec = Rec.fit(x=[users_items_matrix_train_zero_float, side_info_np], y=users_items_matrix_train_zero_float, \n",
    "                            epochs=500, batch_size=128, verbose = 0,  \n",
    "                            validation_data=[[users_items_matrix_train_zero_float, side_info_np], \n",
    "                                             users_items_matrix_test_float], callbacks=[es])\n",
    "\n",
    "    #Evaluate the model\n",
    "    test_result_deep = Rec.evaluate([users_items_matrix_train_zero_float, side_info_np], users_items_matrix_test_float)\n",
    "    \n",
    "    show_error(hist_Rec, 20)\n",
    "\n",
    "    #store the RMSE of each cluster\n",
    "    RMSE_result.append(test_result_deep[2])\n",
    "    \n",
    "    MAE_result.append(test_result_deep[1])\n",
    "    \n",
    "    #save the model\n",
    "    Rec.save_weights('models/model_c{}.h5'.format(k))"
   ]
  },
  {
   "cell_type": "code",
   "execution_count": 18,
   "id": "abee3294",
   "metadata": {},
   "outputs": [
    {
     "data": {
      "text/plain": [
       "[0.2678201496601105,\n",
       " 0.3302212953567505,\n",
       " 0.12371484935283661,\n",
       " 0.13686102628707886,\n",
       " 0.2245865911245346]"
      ]
     },
     "execution_count": 18,
     "metadata": {},
     "output_type": "execute_result"
    }
   ],
   "source": [
    "RMSE_result"
   ]
  },
  {
   "cell_type": "code",
   "execution_count": 19,
   "id": "85cfc3a7",
   "metadata": {},
   "outputs": [
    {
     "name": "stdout",
     "output_type": "stream",
     "text": [
      "Average of RMSE = 0.2166\n"
     ]
    }
   ],
   "source": [
    "# find the average of RMSE\n",
    "average = sum(RMSE_result) / len(RMSE_result)\n",
    "\n",
    "# Printing average of the list\n",
    "print(\"Average of RMSE =\", round(average, 4))"
   ]
  },
  {
   "cell_type": "code",
   "execution_count": 20,
   "id": "3ac67479",
   "metadata": {},
   "outputs": [
    {
     "name": "stdout",
     "output_type": "stream",
     "text": [
      "Average of MAE = 0.1949\n"
     ]
    }
   ],
   "source": [
    "# find the average of MAE\n",
    "average = sum(MAE_result) / len(MAE_result)\n",
    "\n",
    "# Printing average of the list\n",
    "print(\"Average of MAE =\", round(average, 4))"
   ]
  }
 ],
 "metadata": {
  "kernelspec": {
   "display_name": "Python 3 (ipykernel)",
   "language": "python",
   "name": "python3"
  },
  "language_info": {
   "codemirror_mode": {
    "name": "ipython",
    "version": 3
   },
   "file_extension": ".py",
   "mimetype": "text/x-python",
   "name": "python",
   "nbconvert_exporter": "python",
   "pygments_lexer": "ipython3",
   "version": "3.11.5"
  },
  "vscode": {
   "interpreter": {
    "hash": "5747b9065b151de92c4aa2cd98088d5652819cf8ec87bb936e665f94e52b8803"
   }
  }
 },
 "nbformat": 4,
 "nbformat_minor": 5
}
