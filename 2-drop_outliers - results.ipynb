{
 "cells": [
  {
   "cell_type": "code",
   "execution_count": 1,
   "id": "1c4edfa4",
   "metadata": {},
   "outputs": [],
   "source": [
    "import pandas as pd\n",
    "import matplotlib.pyplot as plt\n",
    "import seaborn as sns"
   ]
  },
  {
   "cell_type": "code",
   "execution_count": 1,
   "id": "520b4b33",
   "metadata": {},
   "outputs": [],
   "source": [
    "# download dataset from https://www.kaggle.com/datasets/shuyangli94/food-com-recipes-and-user-interactions/data?select=RAW_recipes.csv\n",
    "# put dataset files inside a new folder named as 'Raw Data'"
   ]
  },
  {
   "cell_type": "code",
   "execution_count": 2,
   "id": "facfa228",
   "metadata": {},
   "outputs": [
    {
     "data": {
      "text/html": [
       "<div>\n",
       "<style scoped>\n",
       "    .dataframe tbody tr th:only-of-type {\n",
       "        vertical-align: middle;\n",
       "    }\n",
       "\n",
       "    .dataframe tbody tr th {\n",
       "        vertical-align: top;\n",
       "    }\n",
       "\n",
       "    .dataframe thead th {\n",
       "        text-align: right;\n",
       "    }\n",
       "</style>\n",
       "<table border=\"1\" class=\"dataframe\">\n",
       "  <thead>\n",
       "    <tr style=\"text-align: right;\">\n",
       "      <th></th>\n",
       "      <th>id</th>\n",
       "      <th>calories</th>\n",
       "      <th>total_fat</th>\n",
       "      <th>sugar</th>\n",
       "      <th>sodium</th>\n",
       "      <th>protein</th>\n",
       "      <th>saturated_fat</th>\n",
       "      <th>carbohydrates</th>\n",
       "    </tr>\n",
       "  </thead>\n",
       "  <tbody>\n",
       "    <tr>\n",
       "      <th>0</th>\n",
       "      <td>38</td>\n",
       "      <td>170.9</td>\n",
       "      <td>3</td>\n",
       "      <td>120</td>\n",
       "      <td>1</td>\n",
       "      <td>6</td>\n",
       "      <td>6</td>\n",
       "      <td>12</td>\n",
       "    </tr>\n",
       "    <tr>\n",
       "      <th>1</th>\n",
       "      <td>39</td>\n",
       "      <td>1110.7</td>\n",
       "      <td>90</td>\n",
       "      <td>81</td>\n",
       "      <td>15</td>\n",
       "      <td>126</td>\n",
       "      <td>82</td>\n",
       "      <td>28</td>\n",
       "    </tr>\n",
       "    <tr>\n",
       "      <th>2</th>\n",
       "      <td>40</td>\n",
       "      <td>311.1</td>\n",
       "      <td>0</td>\n",
       "      <td>308</td>\n",
       "      <td>0</td>\n",
       "      <td>0</td>\n",
       "      <td>0</td>\n",
       "      <td>27</td>\n",
       "    </tr>\n",
       "    <tr>\n",
       "      <th>3</th>\n",
       "      <td>41</td>\n",
       "      <td>536.1</td>\n",
       "      <td>36</td>\n",
       "      <td>128</td>\n",
       "      <td>64</td>\n",
       "      <td>58</td>\n",
       "      <td>19</td>\n",
       "      <td>21</td>\n",
       "    </tr>\n",
       "    <tr>\n",
       "      <th>4</th>\n",
       "      <td>43</td>\n",
       "      <td>437.9</td>\n",
       "      <td>29</td>\n",
       "      <td>170</td>\n",
       "      <td>11</td>\n",
       "      <td>13</td>\n",
       "      <td>54</td>\n",
       "      <td>19</td>\n",
       "    </tr>\n",
       "    <tr>\n",
       "      <th>...</th>\n",
       "      <td>...</td>\n",
       "      <td>...</td>\n",
       "      <td>...</td>\n",
       "      <td>...</td>\n",
       "      <td>...</td>\n",
       "      <td>...</td>\n",
       "      <td>...</td>\n",
       "      <td>...</td>\n",
       "    </tr>\n",
       "    <tr>\n",
       "      <th>231632</th>\n",
       "      <td>537459</td>\n",
       "      <td>220.7</td>\n",
       "      <td>15</td>\n",
       "      <td>49</td>\n",
       "      <td>2</td>\n",
       "      <td>3</td>\n",
       "      <td>30</td>\n",
       "      <td>4</td>\n",
       "    </tr>\n",
       "    <tr>\n",
       "      <th>231633</th>\n",
       "      <td>537485</td>\n",
       "      <td>52.8</td>\n",
       "      <td>3</td>\n",
       "      <td>0</td>\n",
       "      <td>4</td>\n",
       "      <td>1</td>\n",
       "      <td>1</td>\n",
       "      <td>2</td>\n",
       "    </tr>\n",
       "    <tr>\n",
       "      <th>231634</th>\n",
       "      <td>537543</td>\n",
       "      <td>1617.0</td>\n",
       "      <td>104</td>\n",
       "      <td>213</td>\n",
       "      <td>8</td>\n",
       "      <td>40</td>\n",
       "      <td>203</td>\n",
       "      <td>80</td>\n",
       "    </tr>\n",
       "    <tr>\n",
       "      <th>231635</th>\n",
       "      <td>537671</td>\n",
       "      <td>207.9</td>\n",
       "      <td>12</td>\n",
       "      <td>93</td>\n",
       "      <td>10</td>\n",
       "      <td>6</td>\n",
       "      <td>8</td>\n",
       "      <td>10</td>\n",
       "    </tr>\n",
       "    <tr>\n",
       "      <th>231636</th>\n",
       "      <td>537716</td>\n",
       "      <td>407.9</td>\n",
       "      <td>34</td>\n",
       "      <td>21</td>\n",
       "      <td>49</td>\n",
       "      <td>28</td>\n",
       "      <td>64</td>\n",
       "      <td>12</td>\n",
       "    </tr>\n",
       "  </tbody>\n",
       "</table>\n",
       "<p>231637 rows × 8 columns</p>\n",
       "</div>"
      ],
      "text/plain": [
       "            id  calories  total_fat  sugar  sodium  protein  saturated_fat  \\\n",
       "0           38     170.9          3    120       1        6              6   \n",
       "1           39    1110.7         90     81      15      126             82   \n",
       "2           40     311.1          0    308       0        0              0   \n",
       "3           41     536.1         36    128      64       58             19   \n",
       "4           43     437.9         29    170      11       13             54   \n",
       "...        ...       ...        ...    ...     ...      ...            ...   \n",
       "231632  537459     220.7         15     49       2        3             30   \n",
       "231633  537485      52.8          3      0       4        1              1   \n",
       "231634  537543    1617.0        104    213       8       40            203   \n",
       "231635  537671     207.9         12     93      10        6              8   \n",
       "231636  537716     407.9         34     21      49       28             64   \n",
       "\n",
       "        carbohydrates  \n",
       "0                  12  \n",
       "1                  28  \n",
       "2                  27  \n",
       "3                  21  \n",
       "4                  19  \n",
       "...               ...  \n",
       "231632              4  \n",
       "231633              2  \n",
       "231634             80  \n",
       "231635             10  \n",
       "231636             12  \n",
       "\n",
       "[231637 rows x 8 columns]"
      ]
     },
     "execution_count": 2,
     "metadata": {},
     "output_type": "execute_result"
    }
   ],
   "source": [
    "users = pd.read_csv('recipes_nutrition.csv', engine='python')\n",
    "users"
   ]
  },
  {
   "cell_type": "markdown",
   "id": "dc8cb367",
   "metadata": {},
   "source": [
    "# Using boxplot method to determine the outliers of each cloumn"
   ]
  },
  {
   "cell_type": "markdown",
   "id": "e3442859",
   "metadata": {},
   "source": [
    "# calories"
   ]
  },
  {
   "cell_type": "code",
   "execution_count": 4,
   "id": "04a802ac",
   "metadata": {},
   "outputs": [
    {
     "data": {
      "image/png": "[encoded data removed]",
      "text/plain": [
       "<Figure size 432x288 with 1 Axes>"
      ]
     },
     "metadata": {
      "needs_background": "light"
     },
     "output_type": "display_data"
    }
   ],
   "source": [
    "sns.boxplot(x= users['calories'])\n",
    "plt.show()"
   ]
  },
  {
   "cell_type": "code",
   "execution_count": 5,
   "id": "da2357d4",
   "metadata": {},
   "outputs": [
    {
     "data": {
      "image/png": "[encoded data removed]",
      "text/plain": [
       "<Figure size 432x288 with 1 Axes>"
      ]
     },
     "metadata": {
      "needs_background": "light"
     },
     "output_type": "display_data"
    }
   ],
   "source": [
    "sns.boxplot(x= users['total_fat'])\n",
    "plt.show()"
   ]
  },
  {
   "cell_type": "code",
   "execution_count": 6,
   "id": "9eddd6d0",
   "metadata": {},
   "outputs": [
    {
     "data": {
      "image/png": "[encoded data removed]",
      "text/plain": [
       "<Figure size 432x288 with 1 Axes>"
      ]
     },
     "metadata": {
      "needs_background": "light"
     },
     "output_type": "display_data"
    }
   ],
   "source": [
    "sns.boxplot(x= users['sugar'])\n",
    "plt.show()"
   ]
  },
  {
   "cell_type": "code",
   "execution_count": 7,
   "id": "6fcb4051",
   "metadata": {},
   "outputs": [
    {
     "data": {
      "image/png": "[encoded data removed]",
      "text/plain": [
       "<Figure size 432x288 with 1 Axes>"
      ]
     },
     "metadata": {
      "needs_background": "light"
     },
     "output_type": "display_data"
    }
   ],
   "source": [
    "sns.boxplot(x= users['sodium'])\n",
    "plt.show()"
   ]
  },
  {
   "cell_type": "code",
   "execution_count": 8,
   "id": "ebcf17b4",
   "metadata": {},
   "outputs": [
    {
     "data": {
      "image/png": "[encoded data removed]",
      "text/plain": [
       "<Figure size 432x288 with 1 Axes>"
      ]
     },
     "metadata": {
      "needs_background": "light"
     },
     "output_type": "display_data"
    }
   ],
   "source": [
    "sns.boxplot(x= users['protein'])\n",
    "plt.show()"
   ]
  },
  {
   "cell_type": "code",
   "execution_count": 9,
   "id": "7176ea1b",
   "metadata": {},
   "outputs": [
    {
     "data": {
      "image/png": "[encoded data removed]",
      "text/plain": [
       "<Figure size 432x288 with 1 Axes>"
      ]
     },
     "metadata": {
      "needs_background": "light"
     },
     "output_type": "display_data"
    }
   ],
   "source": [
    "sns.boxplot(x= users['saturated_fat'])\n",
    "plt.show()"
   ]
  },
  {
   "cell_type": "code",
   "execution_count": 10,
   "id": "109eebd5",
   "metadata": {},
   "outputs": [
    {
     "data": {
      "image/png": "[encoded data removed]",
      "text/plain": [
       "<Figure size 432x288 with 1 Axes>"
      ]
     },
     "metadata": {
      "needs_background": "light"
     },
     "output_type": "display_data"
    }
   ],
   "source": [
    "sns.boxplot(x= users['carbohydrates'])\n",
    "plt.show()"
   ]
  },
  {
   "cell_type": "code",
   "execution_count": 11,
   "id": "58d733fa",
   "metadata": {},
   "outputs": [
    {
     "data": {
      "text/html": [
       "<div>\n",
       "<style scoped>\n",
       "    .dataframe tbody tr th:only-of-type {\n",
       "        vertical-align: middle;\n",
       "    }\n",
       "\n",
       "    .dataframe tbody tr th {\n",
       "        vertical-align: top;\n",
       "    }\n",
       "\n",
       "    .dataframe thead th {\n",
       "        text-align: right;\n",
       "    }\n",
       "</style>\n",
       "<table border=\"1\" class=\"dataframe\">\n",
       "  <thead>\n",
       "    <tr style=\"text-align: right;\">\n",
       "      <th></th>\n",
       "      <th>calories</th>\n",
       "    </tr>\n",
       "  </thead>\n",
       "  <tbody>\n",
       "    <tr>\n",
       "      <th>count</th>\n",
       "      <td>231637.000000</td>\n",
       "    </tr>\n",
       "    <tr>\n",
       "      <th>mean</th>\n",
       "      <td>473.942425</td>\n",
       "    </tr>\n",
       "    <tr>\n",
       "      <th>std</th>\n",
       "      <td>1189.711374</td>\n",
       "    </tr>\n",
       "    <tr>\n",
       "      <th>min</th>\n",
       "      <td>0.000000</td>\n",
       "    </tr>\n",
       "    <tr>\n",
       "      <th>25%</th>\n",
       "      <td>174.400000</td>\n",
       "    </tr>\n",
       "    <tr>\n",
       "      <th>50%</th>\n",
       "      <td>313.400000</td>\n",
       "    </tr>\n",
       "    <tr>\n",
       "      <th>75%</th>\n",
       "      <td>519.700000</td>\n",
       "    </tr>\n",
       "    <tr>\n",
       "      <th>max</th>\n",
       "      <td>434360.200000</td>\n",
       "    </tr>\n",
       "  </tbody>\n",
       "</table>\n",
       "</div>"
      ],
      "text/plain": [
       "            calories\n",
       "count  231637.000000\n",
       "mean      473.942425\n",
       "std      1189.711374\n",
       "min         0.000000\n",
       "25%       174.400000\n",
       "50%       313.400000\n",
       "75%       519.700000\n",
       "max    434360.200000"
      ]
     },
     "execution_count": 11,
     "metadata": {},
     "output_type": "execute_result"
    }
   ],
   "source": [
    "users[['calories']].describe()"
   ]
  },
  {
   "cell_type": "code",
   "execution_count": 12,
   "id": "2e2f13f7",
   "metadata": {},
   "outputs": [
    {
     "data": {
      "text/plain": [
       "345.30000000000007"
      ]
     },
     "execution_count": 12,
     "metadata": {},
     "output_type": "execute_result"
    }
   ],
   "source": [
    "Q1 = users['calories'].quantile(0.25)\n",
    "Q3 = users['calories'].quantile(0.75)\n",
    "IQR = Q3 - Q1\n",
    "IQR"
   ]
  },
  {
   "cell_type": "code",
   "execution_count": 13,
   "id": "977eafe4",
   "metadata": {},
   "outputs": [],
   "source": [
    "lower_lim = Q1 - 1.5 * IQR\n",
    "upper_lim = Q3 + 1.5 * IQR"
   ]
  },
  {
   "cell_type": "code",
   "execution_count": 14,
   "id": "39c46ed7",
   "metadata": {},
   "outputs": [
    {
     "data": {
      "text/plain": [
       "1037.65"
      ]
     },
     "execution_count": 14,
     "metadata": {},
     "output_type": "execute_result"
    }
   ],
   "source": [
    "upper_lim"
   ]
  },
  {
   "cell_type": "code",
   "execution_count": 15,
   "id": "ec141171",
   "metadata": {},
   "outputs": [],
   "source": [
    "outliers_low_1 = (users['calories'] < lower_lim)\n",
    "outliers_up_1 = (users['calories'] > upper_lim)"
   ]
  },
  {
   "cell_type": "code",
   "execution_count": 17,
   "id": "c65e8455",
   "metadata": {},
   "outputs": [],
   "source": [
    "users1 = users[~(outliers_low_1 | outliers_up_1)]"
   ]
  },
  {
   "cell_type": "code",
   "execution_count": 18,
   "id": "7c0b4b5b",
   "metadata": {},
   "outputs": [
    {
     "data": {
      "image/png": "[encoded data removed]",
      "text/plain": [
       "<Figure size 432x288 with 1 Axes>"
      ]
     },
     "metadata": {
      "needs_background": "light"
     },
     "output_type": "display_data"
    }
   ],
   "source": [
    "sns.boxplot(x= users1['calories'])\n",
    "plt.show()"
   ]
  },
  {
   "cell_type": "markdown",
   "id": "fbc869ae",
   "metadata": {},
   "source": [
    "# total_fat"
   ]
  },
  {
   "cell_type": "code",
   "execution_count": 19,
   "id": "9fedc320",
   "metadata": {},
   "outputs": [
    {
     "data": {
      "text/plain": [
       "28.0"
      ]
     },
     "execution_count": 19,
     "metadata": {},
     "output_type": "execute_result"
    }
   ],
   "source": [
    "Q1 = users1['total_fat'].quantile(0.25)\n",
    "Q3 = users1['total_fat'].quantile(0.75)\n",
    "IQR = Q3 - Q1\n",
    "IQR"
   ]
  },
  {
   "cell_type": "code",
   "execution_count": 20,
   "id": "f9d493ef",
   "metadata": {},
   "outputs": [
    {
     "data": {
      "text/plain": [
       "78.0"
      ]
     },
     "execution_count": 20,
     "metadata": {},
     "output_type": "execute_result"
    }
   ],
   "source": [
    "lower_lim = Q1 - 1.5 * IQR\n",
    "upper_lim = Q3 + 1.5 * IQR\n",
    "upper_lim"
   ]
  },
  {
   "cell_type": "code",
   "execution_count": 21,
   "id": "c99c483e",
   "metadata": {},
   "outputs": [],
   "source": [
    "outliers_low_2 = (users1['total_fat'] < lower_lim)\n",
    "outliers_up_2 = (users1['total_fat'] > upper_lim)"
   ]
  },
  {
   "cell_type": "code",
   "execution_count": 23,
   "id": "5c229df4",
   "metadata": {},
   "outputs": [],
   "source": [
    "users2 = users1[~(outliers_low_2 | outliers_up_2)]"
   ]
  },
  {
   "cell_type": "code",
   "execution_count": 24,
   "id": "3efd64d0",
   "metadata": {},
   "outputs": [
    {
     "data": {
      "image/png": "[encoded data removed]",
      "text/plain": [
       "<Figure size 432x288 with 1 Axes>"
      ]
     },
     "metadata": {
      "needs_background": "light"
     },
     "output_type": "display_data"
    }
   ],
   "source": [
    "sns.boxplot(x= users2['total_fat'])\n",
    "plt.show()"
   ]
  },
  {
   "cell_type": "markdown",
   "id": "cb6ec1e0",
   "metadata": {},
   "source": [
    "# sugar"
   ]
  },
  {
   "cell_type": "code",
   "execution_count": 25,
   "id": "fdb931e8",
   "metadata": {},
   "outputs": [],
   "source": [
    "Q1 = users2['sugar'].quantile(0.25)\n",
    "Q3 = users2['sugar'].quantile(0.75)\n",
    "IQR = Q3 - Q1\n",
    "\n",
    "lower_lim = Q1 - 1.5 * IQR\n",
    "upper_lim = Q3 + 1.5 * IQR\n",
    "\n",
    "outliers_low_3 = (users2['sugar'] < lower_lim)\n",
    "outliers_up_3 = (users2['sugar'] > upper_lim)"
   ]
  },
  {
   "cell_type": "code",
   "execution_count": 26,
   "id": "b706bc2e",
   "metadata": {},
   "outputs": [],
   "source": [
    "users3 = users2[~(outliers_low_3 | outliers_up_3)]"
   ]
  },
  {
   "cell_type": "code",
   "execution_count": 27,
   "id": "0d18c02e",
   "metadata": {},
   "outputs": [
    {
     "data": {
      "image/png": "[encoded data removed]",
      "text/plain": [
       "<Figure size 432x288 with 1 Axes>"
      ]
     },
     "metadata": {
      "needs_background": "light"
     },
     "output_type": "display_data"
    }
   ],
   "source": [
    "sns.boxplot(x= users3['sugar'])\n",
    "plt.show()"
   ]
  },
  {
   "cell_type": "markdown",
   "id": "c3c01872",
   "metadata": {},
   "source": [
    "# sodium"
   ]
  },
  {
   "cell_type": "code",
   "execution_count": 30,
   "id": "fc1bb98f",
   "metadata": {},
   "outputs": [],
   "source": [
    "Q1 = users3['sodium'].quantile(0.25)\n",
    "Q3 = users3['sodium'].quantile(0.75)\n",
    "IQR = Q3 - Q1\n",
    "\n",
    "lower_lim = Q1 - 1.5 * IQR\n",
    "upper_lim = Q3 + 1.5 * IQR\n",
    "\n",
    "outliers_low_4 = (users3['sodium'] < lower_lim)\n",
    "outliers_up_4 = (users3['sodium'] > upper_lim)"
   ]
  },
  {
   "cell_type": "code",
   "execution_count": 31,
   "id": "0f882034",
   "metadata": {},
   "outputs": [],
   "source": [
    "users4 = users3[~(outliers_low_4 | outliers_up_4)]"
   ]
  },
  {
   "cell_type": "code",
   "execution_count": 32,
   "id": "ec4a9a3b",
   "metadata": {},
   "outputs": [
    {
     "data": {
      "image/png": "[encoded data removed]",
      "text/plain": [
       "<Figure size 432x288 with 1 Axes>"
      ]
     },
     "metadata": {
      "needs_background": "light"
     },
     "output_type": "display_data"
    }
   ],
   "source": [
    "sns.boxplot(x= users4['sodium'])\n",
    "plt.show()"
   ]
  },
  {
   "cell_type": "markdown",
   "id": "21a16d24",
   "metadata": {},
   "source": [
    "# protein"
   ]
  },
  {
   "cell_type": "code",
   "execution_count": 33,
   "id": "b1622a4d",
   "metadata": {},
   "outputs": [],
   "source": [
    "Q1 = users4['protein'].quantile(0.25)\n",
    "Q3 = users4['protein'].quantile(0.75)\n",
    "IQR = Q3 - Q1\n",
    "\n",
    "lower_lim = Q1 - 1.5 * IQR\n",
    "upper_lim = Q3 + 1.5 * IQR\n",
    "\n",
    "outliers_low_5 = (users4['protein'] < lower_lim)\n",
    "outliers_up_5 = (users4['protein'] > upper_lim)"
   ]
  },
  {
   "cell_type": "code",
   "execution_count": 34,
   "id": "af26d397",
   "metadata": {},
   "outputs": [],
   "source": [
    "users5 = users4[~(outliers_low_5 | outliers_up_5)]"
   ]
  },
  {
   "cell_type": "code",
   "execution_count": 35,
   "id": "64ac2953",
   "metadata": {},
   "outputs": [
    {
     "data": {
      "image/png": "[encoded data removed]",
      "text/plain": [
       "<Figure size 432x288 with 1 Axes>"
      ]
     },
     "metadata": {
      "needs_background": "light"
     },
     "output_type": "display_data"
    }
   ],
   "source": [
    "sns.boxplot(x= users5['protein'])\n",
    "plt.show()"
   ]
  },
  {
   "cell_type": "markdown",
   "id": "04f75dec",
   "metadata": {},
   "source": [
    "# saturated_fat"
   ]
  },
  {
   "cell_type": "code",
   "execution_count": 36,
   "id": "1fc328ea",
   "metadata": {},
   "outputs": [],
   "source": [
    "Q1 = users5['saturated_fat'].quantile(0.25)\n",
    "Q3 = users5['saturated_fat'].quantile(0.75)\n",
    "IQR = Q3 - Q1\n",
    "\n",
    "lower_lim = Q1 - 1.5 * IQR\n",
    "upper_lim = Q3 + 1.5 * IQR\n",
    "\n",
    "outliers_low_6 = (users5['saturated_fat'] < lower_lim)\n",
    "outliers_up_6 = (users5['saturated_fat'] > upper_lim)"
   ]
  },
  {
   "cell_type": "code",
   "execution_count": 37,
   "id": "bff6c5a4",
   "metadata": {},
   "outputs": [],
   "source": [
    "users6 = users5[~(outliers_low_6 | outliers_up_6)]"
   ]
  },
  {
   "cell_type": "code",
   "execution_count": 38,
   "id": "2da742d3",
   "metadata": {},
   "outputs": [
    {
     "data": {
      "image/png": "[encoded data removed]",
      "text/plain": [
       "<Figure size 432x288 with 1 Axes>"
      ]
     },
     "metadata": {
      "needs_background": "light"
     },
     "output_type": "display_data"
    }
   ],
   "source": [
    "sns.boxplot(x= users6['saturated_fat'])\n",
    "plt.show()"
   ]
  },
  {
   "cell_type": "markdown",
   "id": "529581c8",
   "metadata": {},
   "source": [
    "# carbohydrates"
   ]
  },
  {
   "cell_type": "code",
   "execution_count": 39,
   "id": "2fb504df",
   "metadata": {},
   "outputs": [],
   "source": [
    "Q1 = users6['carbohydrates'].quantile(0.25)\n",
    "Q3 = users6['carbohydrates'].quantile(0.75)\n",
    "IQR = Q3 - Q1\n",
    "\n",
    "lower_lim = Q1 - 1.5 * IQR\n",
    "upper_lim = Q3 + 1.5 * IQR\n",
    "\n",
    "outliers_low_7 = (users6['carbohydrates'] < lower_lim)\n",
    "outliers_up_7 = (users6['carbohydrates'] > upper_lim)"
   ]
  },
  {
   "cell_type": "code",
   "execution_count": 40,
   "id": "44d0c106",
   "metadata": {},
   "outputs": [],
   "source": [
    "users7 = users6[~(outliers_low_7 | outliers_up_7)]"
   ]
  },
  {
   "cell_type": "code",
   "execution_count": 41,
   "id": "6152f089",
   "metadata": {},
   "outputs": [
    {
     "data": {
      "image/png": "[encoded data removed]",
      "text/plain": [
       "<Figure size 432x288 with 1 Axes>"
      ]
     },
     "metadata": {
      "needs_background": "light"
     },
     "output_type": "display_data"
    }
   ],
   "source": [
    "sns.boxplot(x= users7['carbohydrates'])\n",
    "plt.show()"
   ]
  },
  {
   "cell_type": "markdown",
   "id": "2d52ecda",
   "metadata": {},
   "source": [
    "# Save the outputs"
   ]
  },
  {
   "cell_type": "code",
   "execution_count": 42,
   "id": "1fe53b57",
   "metadata": {},
   "outputs": [],
   "source": [
    "users7.to_csv('food_nutrition_IQR15.csv')"
   ]
  },
  {
   "cell_type": "code",
   "execution_count": 43,
   "id": "8c7baf18",
   "metadata": {},
   "outputs": [
    {
     "data": {
      "text/html": [
       "<div>\n",
       "<style scoped>\n",
       "    .dataframe tbody tr th:only-of-type {\n",
       "        vertical-align: middle;\n",
       "    }\n",
       "\n",
       "    .dataframe tbody tr th {\n",
       "        vertical-align: top;\n",
       "    }\n",
       "\n",
       "    .dataframe thead th {\n",
       "        text-align: right;\n",
       "    }\n",
       "</style>\n",
       "<table border=\"1\" class=\"dataframe\">\n",
       "  <thead>\n",
       "    <tr style=\"text-align: right;\">\n",
       "      <th></th>\n",
       "      <th>calories</th>\n",
       "      <th>total_fat</th>\n",
       "      <th>sugar</th>\n",
       "      <th>sodium</th>\n",
       "      <th>protein</th>\n",
       "      <th>saturated_fat</th>\n",
       "      <th>carbohydrates</th>\n",
       "    </tr>\n",
       "  </thead>\n",
       "  <tbody>\n",
       "    <tr>\n",
       "      <th>count</th>\n",
       "      <td>166543.000000</td>\n",
       "      <td>166543.000000</td>\n",
       "      <td>166543.000000</td>\n",
       "      <td>166543.000000</td>\n",
       "      <td>166543.000000</td>\n",
       "      <td>166543.000000</td>\n",
       "      <td>166543.000000</td>\n",
       "    </tr>\n",
       "    <tr>\n",
       "      <th>mean</th>\n",
       "      <td>257.721438</td>\n",
       "      <td>18.492774</td>\n",
       "      <td>33.986670</td>\n",
       "      <td>15.383793</td>\n",
       "      <td>22.597816</td>\n",
       "      <td>22.219025</td>\n",
       "      <td>7.950475</td>\n",
       "    </tr>\n",
       "    <tr>\n",
       "      <th>std</th>\n",
       "      <td>151.229071</td>\n",
       "      <td>15.395521</td>\n",
       "      <td>36.812694</td>\n",
       "      <td>14.818125</td>\n",
       "      <td>23.107252</td>\n",
       "      <td>21.067088</td>\n",
       "      <td>5.991641</td>\n",
       "    </tr>\n",
       "    <tr>\n",
       "      <th>min</th>\n",
       "      <td>0.000000</td>\n",
       "      <td>0.000000</td>\n",
       "      <td>0.000000</td>\n",
       "      <td>0.000000</td>\n",
       "      <td>0.000000</td>\n",
       "      <td>0.000000</td>\n",
       "      <td>0.000000</td>\n",
       "    </tr>\n",
       "    <tr>\n",
       "      <th>25%</th>\n",
       "      <td>139.400000</td>\n",
       "      <td>6.000000</td>\n",
       "      <td>8.000000</td>\n",
       "      <td>4.000000</td>\n",
       "      <td>5.000000</td>\n",
       "      <td>5.000000</td>\n",
       "      <td>3.000000</td>\n",
       "    </tr>\n",
       "    <tr>\n",
       "      <th>50%</th>\n",
       "      <td>237.300000</td>\n",
       "      <td>15.000000</td>\n",
       "      <td>20.000000</td>\n",
       "      <td>11.000000</td>\n",
       "      <td>13.000000</td>\n",
       "      <td>16.000000</td>\n",
       "      <td>7.000000</td>\n",
       "    </tr>\n",
       "    <tr>\n",
       "      <th>75%</th>\n",
       "      <td>356.100000</td>\n",
       "      <td>27.000000</td>\n",
       "      <td>48.000000</td>\n",
       "      <td>24.000000</td>\n",
       "      <td>35.000000</td>\n",
       "      <td>34.000000</td>\n",
       "      <td>12.000000</td>\n",
       "    </tr>\n",
       "    <tr>\n",
       "      <th>max</th>\n",
       "      <td>1027.500000</td>\n",
       "      <td>78.000000</td>\n",
       "      <td>162.000000</td>\n",
       "      <td>64.000000</td>\n",
       "      <td>96.000000</td>\n",
       "      <td>86.000000</td>\n",
       "      <td>25.000000</td>\n",
       "    </tr>\n",
       "  </tbody>\n",
       "</table>\n",
       "</div>"
      ],
      "text/plain": [
       "            calories      total_fat          sugar         sodium  \\\n",
       "count  166543.000000  166543.000000  166543.000000  166543.000000   \n",
       "mean      257.721438      18.492774      33.986670      15.383793   \n",
       "std       151.229071      15.395521      36.812694      14.818125   \n",
       "min         0.000000       0.000000       0.000000       0.000000   \n",
       "25%       139.400000       6.000000       8.000000       4.000000   \n",
       "50%       237.300000      15.000000      20.000000      11.000000   \n",
       "75%       356.100000      27.000000      48.000000      24.000000   \n",
       "max      1027.500000      78.000000     162.000000      64.000000   \n",
       "\n",
       "             protein  saturated_fat  carbohydrates  \n",
       "count  166543.000000  166543.000000  166543.000000  \n",
       "mean       22.597816      22.219025       7.950475  \n",
       "std        23.107252      21.067088       5.991641  \n",
       "min         0.000000       0.000000       0.000000  \n",
       "25%         5.000000       5.000000       3.000000  \n",
       "50%        13.000000      16.000000       7.000000  \n",
       "75%        35.000000      34.000000      12.000000  \n",
       "max        96.000000      86.000000      25.000000  "
      ]
     },
     "execution_count": 43,
     "metadata": {},
     "output_type": "execute_result"
    }
   ],
   "source": [
    "users7[['calories', 'total_fat', 'sugar','sodium','protein','saturated_fat','carbohydrates']].describe()"
   ]
  },
  {
   "cell_type": "code",
   "execution_count": null,
   "id": "64d0aba4",
   "metadata": {},
   "outputs": [],
   "source": []
  }
 ],
 "metadata": {
  "kernelspec": {
   "display_name": "Python 3 (ipykernel)",
   "language": "python",
   "name": "python3"
  },
  "language_info": {
   "codemirror_mode": {
    "name": "ipython",
    "version": 3
   },
   "file_extension": ".py",
   "mimetype": "text/x-python",
   "name": "python",
   "nbconvert_exporter": "python",
   "pygments_lexer": "ipython3",
   "version": "3.11.5"
  }
 },
 "nbformat": 4,
 "nbformat_minor": 5
}
